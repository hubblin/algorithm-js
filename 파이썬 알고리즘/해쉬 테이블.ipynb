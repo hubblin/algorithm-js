{
 "cells": [
  {
   "cell_type": "code",
   "execution_count": 1,
   "id": "62130741",
   "metadata": {},
   "outputs": [],
   "source": [
    "def sum_all(n):\n",
    "    total = 0\n",
    "    for num in range(1, n+1):\n",
    "        total += num\n",
    "    return total"
   ]
  },
  {
   "cell_type": "code",
   "execution_count": 2,
   "id": "158ec3c7",
   "metadata": {},
   "outputs": [
    {
     "data": {
      "text/plain": [
       "500500"
      ]
     },
     "execution_count": 2,
     "metadata": {},
     "output_type": "execute_result"
    }
   ],
   "source": [
    "sum_all(1000)"
   ]
  },
  {
   "cell_type": "markdown",
   "id": "dffc86b2",
   "metadata": {},
   "source": [
    "빅 오 표기법으로는 O(n)"
   ]
  },
  {
   "cell_type": "code",
   "execution_count": 3,
   "id": "9c502b7d",
   "metadata": {},
   "outputs": [],
   "source": [
    "def sum_all2(n):\n",
    "    return int(n * (n+1)/2)"
   ]
  },
  {
   "cell_type": "code",
   "execution_count": 5,
   "id": "8922f01d",
   "metadata": {},
   "outputs": [
    {
     "data": {
      "text/plain": [
       "500500"
      ]
     },
     "execution_count": 5,
     "metadata": {},
     "output_type": "execute_result"
    }
   ],
   "source": [
    "sum_all2(1000)"
   ]
  },
  {
   "cell_type": "markdown",
   "id": "50223e33",
   "metadata": {},
   "source": [
    "빅 오 표기법으로는 O(1)"
   ]
  },
  {
   "cell_type": "markdown",
   "id": "ed67bb26",
   "metadata": {},
   "source": [
    "한마디로 키에 데이터를 집어넣는 구조로 생각할 수 있다.\n",
    "파이썬 딕셔너리 타입  \n",
    "\n",
    "  \n",
    "해쉬 : 임의 값을 고정 길이로 변환하는 것  \n",
    "해쉬 테이블 : 키 값의 연산에 의해 직접 접근이 가능한 데이터 구조  \n",
    "해싱 함수 : Key에 대해 산술 연산을 이용해 데이터 위치를 찾을 수 있는 함수  \n",
    "해쉬 값 또는 해쉬 주소 : Key를 해싱 함수로 연산해서, 해쉬 값을 알아내고, 이를 기반으로 해쉬  \n",
    "슬롯 : 한 개의 데이터를 저장할 수 있는 공간  \n",
    "저장할 데이터에 대해 Key를 추출할 수 있는 별도 함수도 존재할 수 있음"
   ]
  },
  {
   "cell_type": "code",
   "execution_count": 7,
   "id": "b1c0468b",
   "metadata": {},
   "outputs": [
    {
     "data": {
      "text/plain": [
       "[0, 0, 0, 0, 0, 0, 0, 0, 0, 0]"
      ]
     },
     "execution_count": 7,
     "metadata": {},
     "output_type": "execute_result"
    }
   ],
   "source": [
    "hash_table = list([0 for i in range(10)])\n",
    "hash_table"
   ]
  },
  {
   "cell_type": "code",
   "execution_count": 8,
   "id": "8315a484",
   "metadata": {},
   "outputs": [],
   "source": [
    "def hash_func(key):\n",
    "    return key%5\n",
    "#고정된 길이로 key를 반환한다."
   ]
  },
  {
   "cell_type": "code",
   "execution_count": 10,
   "id": "5d7085ec",
   "metadata": {},
   "outputs": [
    {
     "name": "stdout",
     "output_type": "stream",
     "text": [
      "65 68 84\n",
      "65 0\n"
     ]
    }
   ],
   "source": [
    "data1 = 'Andy'\n",
    "data2 = 'Dave'\n",
    "data3 = 'Trump'\n",
    "\n",
    "#ord(): 문자의 ASCII 코드 리턴\n",
    "print(ord(data1[0]), ord(data2[0]), ord(data3[0]))\n",
    "print(ord(data1[0]), hash_func(ord(data1[0])))"
   ]
  },
  {
   "cell_type": "code",
   "execution_count": 11,
   "id": "2a79cf3b",
   "metadata": {},
   "outputs": [],
   "source": [
    "def storage_data(data,value):\n",
    "    key = ord(data[0])\n",
    "    hash_address = hash_func(key)\n",
    "    hash_table[hash_address] = value"
   ]
  },
  {
   "cell_type": "code",
   "execution_count": 12,
   "id": "b71475e8",
   "metadata": {},
   "outputs": [],
   "source": [
    "storage_data('Andy', '01055553333')\n",
    "storage_data('Dave', '01044443333')\n",
    "storage_data('Trump', '01022223333')"
   ]
  },
  {
   "cell_type": "code",
   "execution_count": 13,
   "id": "98dc6f56",
   "metadata": {},
   "outputs": [],
   "source": [
    "def get_data(data):\n",
    "    key = ord(data[0])\n",
    "    hash_address = hash_func(key)\n",
    "    return hash_table[hash_address]"
   ]
  },
  {
   "cell_type": "code",
   "execution_count": 14,
   "id": "9f12ed3c",
   "metadata": {},
   "outputs": [
    {
     "data": {
      "text/plain": [
       "'01055553333'"
      ]
     },
     "execution_count": 14,
     "metadata": {},
     "output_type": "execute_result"
    }
   ],
   "source": [
    "get_data('Andy')"
   ]
  },
  {
   "cell_type": "code",
   "execution_count": 15,
   "id": "df35b4a4",
   "metadata": {},
   "outputs": [],
   "source": [
    "hash_table = list([0 for i in range(8)])"
   ]
  },
  {
   "cell_type": "code",
   "execution_count": 22,
   "id": "803a82ee",
   "metadata": {},
   "outputs": [],
   "source": [
    "def get_key(data):\n",
    "    return hash(data)\n",
    "\n",
    "def hash_function(key):\n",
    "    return key % 8\n",
    "\n",
    "def save_data(data,value):\n",
    "    hash_address = hash_function(get_key(data))\n",
    "    hash_table[hash_address] = value\n",
    "    \n",
    "def read_data(data):\n",
    "    hash_address = hash_function(get_key(data))\n",
    "    return hash_table[hash_address]"
   ]
  },
  {
   "cell_type": "code",
   "execution_count": 23,
   "id": "4eb80a8b",
   "metadata": {},
   "outputs": [
    {
     "name": "stdout",
     "output_type": "stream",
     "text": [
      "6\n",
      "6\n"
     ]
    },
    {
     "data": {
      "text/plain": [
       "'01033232000'"
      ]
     },
     "execution_count": 23,
     "metadata": {},
     "output_type": "execute_result"
    }
   ],
   "source": [
    "save_data('Dave','01020302000')\n",
    "save_data('Andy','01033232000')\n",
    "read_data('Dave')"
   ]
  },
  {
   "cell_type": "code",
   "execution_count": 21,
   "id": "8f1aefe5",
   "metadata": {},
   "outputs": [
    {
     "data": {
      "text/plain": [
       "[0, 0, 0, 0, 0, 0, '01033232000', 0]"
      ]
     },
     "execution_count": 21,
     "metadata": {},
     "output_type": "execute_result"
    }
   ],
   "source": [
    "hash_table"
   ]
  },
  {
   "cell_type": "markdown",
   "id": "a5ef525e",
   "metadata": {},
   "source": [
    "### chaining 기법으로 충돌 해결하기"
   ]
  },
  {
   "cell_type": "code",
   "execution_count": 27,
   "id": "3f7c17e3",
   "metadata": {},
   "outputs": [],
   "source": [
    "hash_table = list([0 for i in range(8)])\n",
    "\n",
    "def get_key(data):\n",
    "    return hash(data)\n",
    "\n",
    "def hash_function(key):\n",
    "    return key % 8\n",
    "\n",
    "def save_data(data, value):\n",
    "    index_key = get_key(data)\n",
    "    hash_address = hash_function(index_key)\n",
    "    if hash_table[hash_address] != 0:\n",
    "        for index in range(len(hash_table[hash_address])):\n",
    "            if hash_table[hash_address][index][0] == index_key:\n",
    "                hash_table[hash_address][index][1] = value\n",
    "                return\n",
    "        hash_table[hash_address].append([index_key, value])\n",
    "    else:\n",
    "        hash_table[hash_address] = [[index_key, value]]\n",
    "        \n",
    "    \n",
    "def read_data(data):\n",
    "    index_key = get_key(data)\n",
    "    hash_address = hash_function(index_key)\n",
    "    if hash_table[hash_address] != 0:\n",
    "        for index in range(len(hash_table[hash_address])):\n",
    "            if hash_table[hash_address][index][0] == index_key:\n",
    "                return hash_table[hash_address][index][1]\n",
    "        return None\n",
    "    else:\n",
    "        return None\n",
    "    return hash_table[hash_address]"
   ]
  },
  {
   "cell_type": "code",
   "execution_count": 28,
   "id": "30a5c3f3",
   "metadata": {},
   "outputs": [
    {
     "data": {
      "text/plain": [
       "'01020302000'"
      ]
     },
     "execution_count": 28,
     "metadata": {},
     "output_type": "execute_result"
    }
   ],
   "source": [
    "save_data('Dave','01020302000')\n",
    "save_data('Andy','01033232000')\n",
    "read_data('Dave')"
   ]
  },
  {
   "cell_type": "code",
   "execution_count": 29,
   "id": "540aa791",
   "metadata": {},
   "outputs": [
    {
     "data": {
      "text/plain": [
       "[0,\n",
       " 0,\n",
       " 0,\n",
       " 0,\n",
       " 0,\n",
       " 0,\n",
       " [[-5955701657192466386, '01020302000'], [3074700787263471678, '01033232000']],\n",
       " 0]"
      ]
     },
     "execution_count": 29,
     "metadata": {},
     "output_type": "execute_result"
    }
   ],
   "source": [
    "hash_table"
   ]
  },
  {
   "cell_type": "markdown",
   "id": "c07de2d8",
   "metadata": {},
   "source": [
    "### Linear Probing 기법  \n",
    "- 충돌이 일어나면, 해당 hash address의 다음 address부터 맨 처음 나용는 빈공간에 저장하는 기법"
   ]
  },
  {
   "cell_type": "code",
   "execution_count": 5,
   "id": "61ac37dc",
   "metadata": {},
   "outputs": [],
   "source": [
    "hash_table = list([0 for i in range(8)])\n",
    "\n",
    "def get_key(data):\n",
    "    return hash(data)\n",
    "\n",
    "def hash_function(key):\n",
    "    return key % 8\n",
    "\n",
    "def save_data(data,value):\n",
    "    index_key = get_key(data)\n",
    "    hash_address = hash_function(index_key)\n",
    "    if hash_table[hash_address] != 0:\n",
    "        for index in range(hash_address, len(hash_table)):\n",
    "            if hash_table[index] == 0:\n",
    "                hash_table[index] = [index_key, value]\n",
    "                return\n",
    "            elif hash_table[index][0] == index_key:\n",
    "                hash_table[index][1] = value\n",
    "                return\n",
    "    else:\n",
    "        hash_table[hash_address] = [index_key, value]\n",
    "        \n",
    "        for index in range(len(hash_table[hash_address])):\n",
    "            if hash_table[hash_address][index][0] == index_key:\n",
    "                hash_table[hash_address][index][1] = value\n",
    "                return\n",
    "        hash_table[hash_address].append([index_key, value])\n",
    "    \n",
    "        \n",
    "def read_data(data):\n",
    "    index_key = get_key(data)\n",
    "    hash_address = hash_function(index_key)\n",
    "    \n",
    "    if hash_table[hash_address] != 0:\n",
    "        for index in range(hash_address, len(hash_table)):\n",
    "            if hash_table[index] == 0:\n",
    "                return None\n",
    "            elif hash_table[index][0] == index_key:\n",
    "                return hash_table[index][1]\n",
    "    else:\n",
    "        return None\n",
    "        "
   ]
  },
  {
   "cell_type": "code",
   "execution_count": 6,
   "id": "837c931c",
   "metadata": {},
   "outputs": [
    {
     "name": "stdout",
     "output_type": "stream",
     "text": [
      "6\n",
      "2\n"
     ]
    }
   ],
   "source": [
    "print(hash('dk')%8)\n",
    "print(hash('da')%8)"
   ]
  },
  {
   "cell_type": "code",
   "execution_count": 10,
   "id": "5bc00782",
   "metadata": {},
   "outputs": [
    {
     "data": {
      "text/plain": [
       "'333333333333'"
      ]
     },
     "execution_count": 10,
     "metadata": {},
     "output_type": "execute_result"
    }
   ],
   "source": [
    "save_data('dk','010200123123')\n",
    "save_data('da','333333333333')\n",
    "read_data('da')"
   ]
  },
  {
   "cell_type": "markdown",
   "id": "1173a0dc",
   "metadata": {},
   "source": [
    "### 해쉬 테이블에서는 충돌을 줄이는 것이 좋다.  \n"
   ]
  },
  {
   "cell_type": "code",
   "execution_count": 13,
   "id": "d4482522",
   "metadata": {},
   "outputs": [
    {
     "name": "stdout",
     "output_type": "stream",
     "text": [
      "a94a8fe5ccb19ba61c4c0873d391e987982fbbd3\n"
     ]
    }
   ],
   "source": [
    "import hashlib\n",
    "\n",
    "data = 'test'.encode()\n",
    "hash_object = hashlib.sha1()\n",
    "hash_object.update(data)\n",
    "hex_dig = hash_object.hexdigest()\n",
    "\n",
    "print(hex_dig)"
   ]
  },
  {
   "cell_type": "code",
   "execution_count": 14,
   "id": "5f8ccd73",
   "metadata": {},
   "outputs": [
    {
     "name": "stdout",
     "output_type": "stream",
     "text": [
      "9f86d081884c7d659a2feaa0c55ad015a3bf4f1b2b0b822cd15d6c15b0f00a08\n"
     ]
    }
   ],
   "source": [
    "import hashlib\n",
    "\n",
    "data = 'test'.encode()\n",
    "hash_object = hashlib.sha256()\n",
    "hash_object.update(data)\n",
    "hex_dig = hash_object.hexdigest()\n",
    "\n",
    "print(hex_dig)"
   ]
  },
  {
   "cell_type": "code",
   "execution_count": null,
   "id": "d08f532e",
   "metadata": {},
   "outputs": [],
   "source": []
  }
 ],
 "metadata": {
  "kernelspec": {
   "display_name": "Python 3 (ipykernel)",
   "language": "python",
   "name": "python3"
  },
  "language_info": {
   "codemirror_mode": {
    "name": "ipython",
    "version": 3
   },
   "file_extension": ".py",
   "mimetype": "text/x-python",
   "name": "python",
   "nbconvert_exporter": "python",
   "pygments_lexer": "ipython3",
   "version": "3.9.7"
  }
 },
 "nbformat": 4,
 "nbformat_minor": 5
}
