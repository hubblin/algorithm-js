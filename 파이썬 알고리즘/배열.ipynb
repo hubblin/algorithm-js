{
 "cells": [
  {
   "cell_type": "markdown",
   "id": "e0881980",
   "metadata": {},
   "source": [
    "# 배열\n",
    "\n",
    "- 자료구조의 장,단점을 설명해 보아라\n",
    "  - 장점 : 접근이 빠르다\n",
    "  - 단점 : 미리 설정을 해야하며 추가, 수정, 삭제가 어렵다."
   ]
  },
  {
   "cell_type": "code",
   "execution_count": 3,
   "id": "7cfe06b4",
   "metadata": {},
   "outputs": [
    {
     "name": "stdout",
     "output_type": "stream",
     "text": [
      "US\n",
      "USA\n"
     ]
    }
   ],
   "source": [
    "country = 'US'\n",
    "print(country)\n",
    "\n",
    "country = country + 'A'\n",
    "print(country)"
   ]
  },
  {
   "cell_type": "markdown",
   "id": "eef666b8",
   "metadata": {},
   "source": [
    "# 3. 파이썬에서의 배열\n",
    "\n",
    "- 파이썬 리스트 활용"
   ]
  },
  {
   "cell_type": "code",
   "execution_count": 5,
   "id": "c218c6ce",
   "metadata": {},
   "outputs": [
    {
     "name": "stdout",
     "output_type": "stream",
     "text": [
      "[1, 2, 3, 4, 5]\n"
     ]
    }
   ],
   "source": [
    "# 1차원 배열: 리스트로 구현시\n",
    "data = [1,2,3,4,5]\n",
    "print(data)"
   ]
  },
  {
   "cell_type": "code",
   "execution_count": 6,
   "id": "4bf224bc",
   "metadata": {},
   "outputs": [
    {
     "data": {
      "text/plain": [
       "[[1, 2, 3], [4, 5, 6], [7, 8, 9]]"
      ]
     },
     "execution_count": 6,
     "metadata": {},
     "output_type": "execute_result"
    }
   ],
   "source": [
    "# 2차원 배열: 리스트로 구현시\n",
    "data = [[1,2,3],[4,5,6],[7,8,9]]\n",
    "data"
   ]
  },
  {
   "cell_type": "code",
   "execution_count": 7,
   "id": "74156100",
   "metadata": {},
   "outputs": [
    {
     "name": "stdout",
     "output_type": "stream",
     "text": [
      "[1, 2, 3]\n"
     ]
    }
   ],
   "source": [
    "print(data[0])"
   ]
  },
  {
   "cell_type": "code",
   "execution_count": 9,
   "id": "53d1594a",
   "metadata": {},
   "outputs": [
    {
     "name": "stdout",
     "output_type": "stream",
     "text": [
      "1\n",
      "2\n",
      "3\n",
      "4\n"
     ]
    }
   ],
   "source": [
    "print(data[0][0])\n",
    "print(data[0][1])\n",
    "print(data[0][2])\n",
    "print(data[1][0])"
   ]
  },
  {
   "cell_type": "markdown",
   "id": "4b7cc9ae",
   "metadata": {},
   "source": [
    "# 3. 프로그래밍 연습\n",
    "\n",
    "연습1: 위의 2차원 배열에서 9,8,7 순서로 출력해보기"
   ]
  },
  {
   "cell_type": "code",
   "execution_count": 12,
   "id": "2d084f69",
   "metadata": {},
   "outputs": [
    {
     "name": "stdout",
     "output_type": "stream",
     "text": [
      "9\n",
      "8\n",
      "7\n"
     ]
    }
   ],
   "source": [
    "print(data[2][2])\n",
    "print(data[2][1])\n",
    "print(data[2][0])"
   ]
  },
  {
   "cell_type": "markdown",
   "id": "5043bc54",
   "metadata": {},
   "source": [
    "### 연습2 : 다음 dataset에서 전체 이름 안에 M이 몇번 나왔는지 적어보시오"
   ]
  },
  {
   "cell_type": "code",
   "execution_count": 13,
   "id": "4a2d17d9",
   "metadata": {},
   "outputs": [],
   "source": [
    "dataset = ['Braund, Mr. Owen Harris',\n",
    "'Cumings, Mrs. John Bradley (Florence Briggs Thayer)',\n",
    "'Heikkinen, Miss. Laina',\n",
    "'Futrelle, Mrs. Jacques Heath (Lily May Peel)',\n",
    "'Allen, Mr. William Henry',\n",
    "'Moran, Mr. James',\n",
    "'McCarthy, Mr. Timothy J',\n",
    "'Palsson, Master. Gosta Leonard',\n",
    "'Johnson, Mrs. Oscar W (Elisabeth Vilhelmina Berg)',\n",
    "'Nasser, Mrs. Nicholas (Adele Achem)',\n",
    "'Sandstrom, Miss. Marguerite Rut',\n",
    "'Bonnell, Miss. Elizabeth',\n",
    "'Saundercock, Mr. William Henry',\n",
    "'Andersson, Mr. Anders Johan',\n",
    "'Vestrom, Miss. Hulda Amanda Adolfina',\n",
    "'Hewlett, Mrs. (Mary D Kingcome) ',\n",
    "'Rice, Master. Eugene',\n",
    "'Williams, Mr. Charles Eugene',\n",
    "'Vander Planke, Mrs. Julius (Emelia Maria Vandemoortele)',\n",
    "'Masselmani, Mrs. Fatima',\n",
    "'Fynney, Mr. Joseph J',\n",
    "'Beesley, Mr. Lawrence',\n",
    "'McGowan, Miss. Anna \"Annie\"',\n",
    "'Sloper, Mr. William Thompson',\n",
    "'Palsson, Miss. Torborg Danira',\n",
    "'Asplund, Mrs. Carl Oscar (Selma Augusta Emilia Johansson)',\n",
    "'Emir, Mr. Farred Chehab',\n",
    "'Fortune, Mr. Charles Alexander',\n",
    "'Dwyer, Miss. Ellen \"Nellie\"',\n",
    "'Todoroff, Mr. Lalio']"
   ]
  },
  {
   "cell_type": "code",
   "execution_count": 27,
   "id": "dcf6321c",
   "metadata": {},
   "outputs": [
    {
     "name": "stdout",
     "output_type": "stream",
     "text": [
      "38\n"
     ]
    }
   ],
   "source": [
    "m_count =0\n",
    "for data in dataset:\n",
    "    for index in range(len(data)):\n",
    "        if data[index] == 'M':\n",
    "            m_count+=1\n",
    "            \n",
    "print(m_count)"
   ]
  },
  {
   "cell_type": "code",
   "execution_count": null,
   "id": "a6d01c2d",
   "metadata": {},
   "outputs": [],
   "source": []
  }
 ],
 "metadata": {
  "kernelspec": {
   "display_name": "Python 3 (ipykernel)",
   "language": "python",
   "name": "python3"
  },
  "language_info": {
   "codemirror_mode": {
    "name": "ipython",
    "version": 3
   },
   "file_extension": ".py",
   "mimetype": "text/x-python",
   "name": "python",
   "nbconvert_exporter": "python",
   "pygments_lexer": "ipython3",
   "version": "3.9.7"
  }
 },
 "nbformat": 4,
 "nbformat_minor": 5
}
